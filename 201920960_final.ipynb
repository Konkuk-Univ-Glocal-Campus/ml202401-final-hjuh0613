{
 "cells": [
  {
   "cell_type": "markdown",
   "metadata": {},
   "source": [
    "기말고사 대체 과제 201920960 어형준"
   ]
  },
  {
   "cell_type": "markdown",
   "metadata": {},
   "source": [
    "1. 데이터 : \n",
    "자신의 학번이 홀수로 끝나는 학생은 amazon_uk_shoes_products_dataset_2021_12.csv를\n",
    "짝수로 끝나는 학생은 wine_review.csv를 분석합니다.\n",
    "분석해야 하는 자료는 classroom repository에 있습니다."
   ]
  },
  {
   "cell_type": "code",
   "execution_count": 44,
   "metadata": {},
   "outputs": [
    {
     "name": "stdout",
     "output_type": "stream",
     "text": [
      "Requirement already satisfied: pandas in c:\\users\\hjkin\\anaconda3\\lib\\site-packages (1.5.3)\n",
      "Requirement already satisfied: nltk in c:\\users\\hjkin\\anaconda3\\lib\\site-packages (3.8.1)\n",
      "Requirement already satisfied: python-dateutil>=2.8.1 in c:\\users\\hjkin\\anaconda3\\lib\\site-packages (from pandas) (2.8.2)\n",
      "Requirement already satisfied: pytz>=2020.1 in c:\\users\\hjkin\\anaconda3\\lib\\site-packages (from pandas) (2022.7)\n",
      "Requirement already satisfied: numpy>=1.21.0 in c:\\users\\hjkin\\anaconda3\\lib\\site-packages (from pandas) (1.24.3)\n",
      "Requirement already satisfied: click in c:\\users\\hjkin\\anaconda3\\lib\\site-packages (from nltk) (8.0.4)\n",
      "Requirement already satisfied: joblib in c:\\users\\hjkin\\anaconda3\\lib\\site-packages (from nltk) (1.2.0)\n",
      "Requirement already satisfied: regex>=2021.8.3 in c:\\users\\hjkin\\anaconda3\\lib\\site-packages (from nltk) (2022.7.9)\n",
      "Requirement already satisfied: tqdm in c:\\users\\hjkin\\anaconda3\\lib\\site-packages (from nltk) (4.65.0)\n",
      "Requirement already satisfied: six>=1.5 in c:\\users\\hjkin\\anaconda3\\lib\\site-packages (from python-dateutil>=2.8.1->pandas) (1.16.0)\n",
      "Requirement already satisfied: colorama in c:\\users\\hjkin\\anaconda3\\lib\\site-packages (from click->nltk) (0.4.6)\n",
      "Note: you may need to restart the kernel to use updated packages.\n"
     ]
    },
    {
     "name": "stderr",
     "output_type": "stream",
     "text": [
      "[nltk_data] Downloading package punkt to\n",
      "[nltk_data]     C:\\Users\\hjkin\\AppData\\Roaming\\nltk_data...\n",
      "[nltk_data]   Package punkt is already up-to-date!\n",
      "[nltk_data] Downloading package stopwords to\n",
      "[nltk_data]     C:\\Users\\hjkin\\AppData\\Roaming\\nltk_data...\n",
      "[nltk_data]   Package stopwords is already up-to-date!\n",
      "[nltk_data] Downloading package wordnet to\n",
      "[nltk_data]     C:\\Users\\hjkin\\AppData\\Roaming\\nltk_data...\n",
      "[nltk_data]   Package wordnet is already up-to-date!\n"
     ]
    },
    {
     "data": {
      "text/plain": [
       "True"
      ]
     },
     "execution_count": 44,
     "metadata": {},
     "output_type": "execute_result"
    }
   ],
   "source": [
    "## 필요한 라이브러리 설치 ##\n",
    "%pip install pandas nltk\n",
    "\n",
    "## 필요한 라이브러리 임포트 ##\n",
    "import pandas as pd\n",
    "import numpy as np\n",
    "import re\n",
    "import nltk\n",
    "from nltk.corpus import stopwords\n",
    "from nltk.tokenize import word_tokenize\n",
    "from nltk.stem import WordNetLemmatizer\n",
    "from sklearn.model_selection import train_test_split, GridSearchCV, cross_val_score\n",
    "from sklearn.feature_extraction.text import TfidfVectorizer\n",
    "from sklearn.svm import SVC\n",
    "from sklearn.pipeline import Pipeline\n",
    "from sklearn.metrics import accuracy_score, roc_curve, auc, confusion_matrix, classification_report\n",
    "from sklearn.preprocessing import LabelEncoder\n",
    "import matplotlib.pyplot as plt\n",
    "import seaborn as sns\n",
    "\n",
    "## nltk 데이터 다운로드 ##\n",
    "nltk.download('punkt')\n",
    "nltk.download('stopwords')\n",
    "nltk.download('wordnet')"
   ]
  },
  {
   "cell_type": "code",
   "execution_count": 47,
   "metadata": {},
   "outputs": [
    {
     "name": "stdout",
     "output_type": "stream",
     "text": [
      "                        id asins                 brand  \\\n",
      "0     AV13ClKCGV-KLJ3akN68   NaN                 Gallo   \n",
      "1     AV13CsvW-jtxr-f38AQO   NaN       Fresh Craft Co.   \n",
      "2     AV13CVI_glJLPUi8O7Po   NaN          1000 Stories   \n",
      "3     AV13CVI_glJLPUi8O7Po   NaN          1000 Stories   \n",
      "4     AV13CYL4-jtxr-f37_-t   NaN          Wine Cube153   \n",
      "...                    ...   ...                   ...   \n",
      "2885  AV654xcDYSSHbkXwoTj_   NaN  Vintage Wine Estates   \n",
      "2886  AV654xcDYSSHbkXwoTj_   NaN  Vintage Wine Estates   \n",
      "2887  AV654xcDYSSHbkXwoTj_   NaN  Vintage Wine Estates   \n",
      "2888  AV654xcDYSSHbkXwoTj_   NaN  Vintage Wine Estates   \n",
      "2889  AV654xcDYSSHbkXwoTj_   NaN  Vintage Wine Estates   \n",
      "\n",
      "                                             categories             dateAdded  \\\n",
      "0     Food & Beverage,Beverages,Wine, Beer & Liquor,...  2017-07-24T23:59:11Z   \n",
      "1     Food & Beverage,Beverages,Wine, Beer & Liquor,...  2017-07-24T23:59:42Z   \n",
      "2     Food & Beverage,Beverages,Wine, Beer & Liquor,...  2017-07-24T23:58:05Z   \n",
      "3     Food & Beverage,Beverages,Wine, Beer & Liquor,...  2017-07-24T23:58:05Z   \n",
      "4     Food & Beverage,Beverages,Wine, Beer & Liquor,...  2017-07-24T23:58:18Z   \n",
      "...                                                 ...                   ...   \n",
      "2885           Wine Shop,Kitchen and Food,View All Food  2017-09-25T16:31:30Z   \n",
      "2886           Wine Shop,Kitchen and Food,View All Food  2017-09-25T16:31:30Z   \n",
      "2887           Wine Shop,Kitchen and Food,View All Food  2017-09-25T16:31:30Z   \n",
      "2888           Wine Shop,Kitchen and Food,View All Food  2017-09-25T16:31:30Z   \n",
      "2889           Wine Shop,Kitchen and Food,View All Food  2017-09-25T16:31:30Z   \n",
      "\n",
      "               dateUpdated                                       descriptions  \\\n",
      "0     2018-01-10T18:06:28Z                                                NaN   \n",
      "1     2018-01-10T05:38:33Z  [{\"dateSeen\":[\"2017-12-21T05:43:00.000Z\",\"2017...   \n",
      "2     2018-01-10T05:38:31Z                                                NaN   \n",
      "3     2018-01-10T05:38:31Z                                                NaN   \n",
      "4     2018-01-10T18:06:29Z  [{\"dateSeen\":[\"2017-12-21T05:43:00.000Z\",\"2017...   \n",
      "...                    ...                                                ...   \n",
      "2885  2018-01-03T18:57:51Z  [{\"dateSeen\":[\"2017-12-10T09:34:00.000Z\",\"2017...   \n",
      "2886  2018-01-03T18:57:51Z  [{\"dateSeen\":[\"2017-12-10T09:34:00.000Z\",\"2017...   \n",
      "2887  2018-01-03T18:57:51Z  [{\"dateSeen\":[\"2017-12-10T09:34:00.000Z\",\"2017...   \n",
      "2888  2018-01-03T18:57:51Z  [{\"dateSeen\":[\"2017-12-10T09:34:00.000Z\",\"2017...   \n",
      "2889  2018-01-03T18:57:51Z  [{\"dateSeen\":[\"2017-12-10T09:34:00.000Z\",\"2017...   \n",
      "\n",
      "                        dimension  ean flavors  ...  \\\n",
      "0        1.0 in x 1.0 in x 1.0 in  NaN     NaN  ...   \n",
      "1     4.25 in x 4.25 in x 5.25 in  NaN     NaN  ...   \n",
      "2      3.3 in x 3.3 in x 11.79 in  NaN     NaN  ...   \n",
      "3      3.3 in x 3.3 in x 11.79 in  NaN     NaN  ...   \n",
      "4        1.0 in x 1.0 in x 1.0 in  NaN     NaN  ...   \n",
      "...                           ...  ...     ...  ...   \n",
      "2885                          NaN  NaN     NaN  ...   \n",
      "2886                          NaN  NaN     NaN  ...   \n",
      "2887                          NaN  NaN     NaN  ...   \n",
      "2888                          NaN  NaN     NaN  ...   \n",
      "2889                          NaN  NaN     NaN  ...   \n",
      "\n",
      "                                     reviews.sourceURLs  \\\n",
      "0     https://redsky.target.com/groot-domain-api/v1/...   \n",
      "1     https://redsky.target.com/groot-domain-api/v1/...   \n",
      "2     https://redsky.target.com/groot-domain-api/v1/...   \n",
      "3     https://redsky.target.com/groot-domain-api/v1/...   \n",
      "4     https://redsky.target.com/groot-domain-api/v1/...   \n",
      "...                                                 ...   \n",
      "2885  http://qvc.ugc.bazaarvoice.com/1689wcs-en_us/M...   \n",
      "2886  http://qvc.ugc.bazaarvoice.com/1689wcs-en_us/M...   \n",
      "2887  http://qvc.ugc.bazaarvoice.com/1689wcs-en_us/M...   \n",
      "2888  http://qvc.ugc.bazaarvoice.com/1689wcs-en_us/M...   \n",
      "2889  http://qvc.ugc.bazaarvoice.com/1689wcs-en_us/M...   \n",
      "\n",
      "                                           reviews.text  \\\n",
      "0         This a fantastic white wine for any occasion!   \n",
      "1      Tart, not sweet...very refreshing and delicious!   \n",
      "2     I was given this wine so it was a delightful s...   \n",
      "3     This is a phenomenal wine and my new favorite ...   \n",
      "4     4 750ml bottles for the price of two With way ...   \n",
      "...                                                 ...   \n",
      "2885  I only like a sweet wine. I was skeptical on o...   \n",
      "2886  I ordered a 3 bottle set of both the Meritage ...   \n",
      "2887  I ordered the White Zinfadel in the 3 bottle s...   \n",
      "2888  This was my first purchase of these wines. Tri...   \n",
      "2889  I don't know why the negative reviews said the...   \n",
      "\n",
      "                             reviews.title reviews.userCity  \\\n",
      "0                   My Favorite White Wine              NaN   \n",
      "1                                    Yum!!              NaN   \n",
      "2                          A New Favorite!              NaN   \n",
      "3     Bold, Flavorful, Aromatic, Delicious              NaN   \n",
      "4     Yum! Plus, Environmentally Friendly!    Overland Park   \n",
      "...                                    ...              ...   \n",
      "2885                             Excellent              NaN   \n",
      "2886                          Delicious !!              NaN   \n",
      "2887             Sumptuous delicious wine.              NaN   \n",
      "2888                     Excellent Moscato              NaN   \n",
      "2889   O'Leary's Select Reserve Chardonnay              NaN   \n",
      "\n",
      "     reviews.userProvince reviews.username sizes  \\\n",
      "0                     NaN              Bjh   NaN   \n",
      "1                     NaN             Wino   NaN   \n",
      "2                     NaN         Bama Mom   NaN   \n",
      "3                     NaN           Av Dub   NaN   \n",
      "4                     NaN       Chelseamay   NaN   \n",
      "...                   ...              ...   ...   \n",
      "2885                  NaN         Cablegal   NaN   \n",
      "2886                  NaN        Rosie6583   NaN   \n",
      "2887                  NaN      Alexandrite   NaN   \n",
      "2888                  NaN       teddybear2   NaN   \n",
      "2889                  NaN        RightAway   NaN   \n",
      "\n",
      "                                             sourceURLs          upc    weight  \n",
      "0     http://redsky.target.com/v1/plp/search?kwr=y&c...   4.9213E+11   1.0 lbs  \n",
      "1     http://redsky.target.com/v1/plp/search?kwr=y&c...  83120003441  2.45 lbs  \n",
      "2     http://redsky.target.com/v1/plp/search?kwr=y&c...  82896001453  3.09 lbs  \n",
      "3     http://redsky.target.com/v1/plp/search?kwr=y&c...  82896001453  3.09 lbs  \n",
      "4     https://redsky.target.com/groot-domain-api/v1/...  85200600465   1.0 lbs  \n",
      "...                                                 ...          ...       ...  \n",
      "2885  http://www.qvc.com/Vintage-Wine-Estates-Kevin-...          NaN       NaN  \n",
      "2886  http://www.qvc.com/Vintage-Wine-Estates-Kevin-...          NaN       NaN  \n",
      "2887  http://www.qvc.com/Vintage-Wine-Estates-Kevin-...          NaN       NaN  \n",
      "2888  http://www.qvc.com/Vintage-Wine-Estates-Kevin-...          NaN       NaN  \n",
      "2889  http://www.qvc.com/Vintage-Wine-Estates-Kevin-...          NaN       NaN  \n",
      "\n",
      "[2890 rows x 32 columns]\n"
     ]
    }
   ],
   "source": [
    "## 데이터 로드 ##\n",
    "\n",
    "# wine_review.csv파일 불러오기\n",
    "df = pd.read_csv('wine_review.csv')\n",
    "\n",
    "# 불러온 데이터 확인\n",
    "print(df)\n"
   ]
  },
  {
   "cell_type": "code",
   "execution_count": 48,
   "metadata": {},
   "outputs": [
    {
     "name": "stdout",
     "output_type": "stream",
     "text": [
      "Index(['id', 'asins', 'brand', 'categories', 'dateAdded', 'dateUpdated',\n",
      "       'descriptions', 'dimension', 'ean', 'flavors', 'keys', 'manufacturer',\n",
      "       'manufacturerNumber', 'name', 'reviews.date', 'reviews.dateAdded',\n",
      "       'reviews.dateSeen', 'reviews.didPurchase', 'reviews.doRecommend',\n",
      "       'reviews.id', 'reviews.numHelpful', 'reviews.rating',\n",
      "       'reviews.sourceURLs', 'reviews.text', 'reviews.title',\n",
      "       'reviews.userCity', 'reviews.userProvince', 'reviews.username', 'sizes',\n",
      "       'sourceURLs', 'upc', 'weight'],\n",
      "      dtype='object')\n"
     ]
    }
   ],
   "source": [
    "## 컬럼 이름 확인 ##\n",
    "print(df.columns)"
   ]
  },
  {
   "cell_type": "markdown",
   "metadata": {},
   "source": [
    "2. 데이터 전처리 : 데이터 정리 (노이즈 제거, 결측값 처리 등).\n",
    "텍스트 토큰화 및 불용어 제거.\n",
    "텍스트 정규화 (스테밍 또는 표제어 추출)."
   ]
  },
  {
   "cell_type": "code",
   "execution_count": 55,
   "metadata": {},
   "outputs": [],
   "source": [
    "## 데이터 전처리 ##\n",
    "\n",
    "# 필요한 컬럼만 선택\n",
    "df = df[['reviews.text', 'reviews.rating']]\n",
    "\n",
    "# 결측치 처리\n",
    "df.dropna(subset=['reviews.text', 'reviews.rating'], inplace=True)\n",
    "\n",
    "# 감성 데이터 전처리\n",
    "def label_sentiment(rating):\n",
    "    if rating >= 3:         # 3점 이상 긍정적 평가\n",
    "        return 'positive'\n",
    "    else:\n",
    "        return 'negative'    # 2점 이하 부정적 평가\n",
    "\n",
    "df['sentiment'] = df['reviews.rating'].apply(label_sentiment)\n",
    "\n",
    "# 텍스트 정리\n",
    "def preprocess_text(text):\n",
    "    text = text.lower() # 소문자 변환\n",
    "    text = re.sub(r'[^a-zA-Z\\s]', '', text) # 특수 문자 및 숫자 제거\n",
    "    words = word_tokenize(text) # 단어 토큰화\n",
    "    words = [word for word in words if word not in stopwords.words('english')] # 불용어 제거   \n",
    "    lemmatizer = WordNetLemmatizer() # 텍스트 정규화 (표제어 추출)\n",
    "    words = [lemmatizer.lemmatize(word) for word in words]\n",
    "    return ' '.join(words)\n",
    "\n",
    "# 데이터 전처리 적용\n",
    "df['cleared_text'] = df['reviews.text'].apply(preprocess_text)\n",
    "\n",
    "# 데이터셋 분할\n",
    "x = df['cleared_text']\n",
    "y = df['sentiment']\n",
    "\n",
    "# 전처리된 데이터를 새로운 csv 파일로 저장\n",
    "df.to_csv('cleard_review.csv', index=False)\n"
   ]
  },
  {
   "cell_type": "markdown",
   "metadata": {},
   "source": [
    "3. 모델 구현:\n",
    "수업에서 활용한 모델을 적용"
   ]
  },
  {
   "cell_type": "code",
   "execution_count": 58,
   "metadata": {},
   "outputs": [],
   "source": [
    "# 전처리된 데이터 불러오기\n",
    "df =  pd.read_csv('cleard_review.csv')\n",
    "\n",
    "# 결측값 처리\n",
    "df.dropna(subset=['cleared_text'], inplace=True)\n",
    "\n",
    "# 데이터셋 분할\n",
    "x = df['cleared_text']\n",
    "y = df['sentiment']\n"
   ]
  },
  {
   "cell_type": "markdown",
   "metadata": {},
   "source": [
    "4. 모델 학습 및 튜닝 : \n",
    "데이터셋을 학습 및 테스트 세트로 분할.\n",
    "모델 학습 및 하이퍼파라미터 튜닝 (예: 그리드 서치 또는 랜덤 서치 사용).\n",
    "교차 검증과 같은 기술을 사용하여 견고성 보장."
   ]
  },
  {
   "cell_type": "code",
   "execution_count": 60,
   "metadata": {},
   "outputs": [
    {
     "data": {
      "text/html": [
       "<style>#sk-container-id-8 {color: black;}#sk-container-id-8 pre{padding: 0;}#sk-container-id-8 div.sk-toggleable {background-color: white;}#sk-container-id-8 label.sk-toggleable__label {cursor: pointer;display: block;width: 100%;margin-bottom: 0;padding: 0.3em;box-sizing: border-box;text-align: center;}#sk-container-id-8 label.sk-toggleable__label-arrow:before {content: \"▸\";float: left;margin-right: 0.25em;color: #696969;}#sk-container-id-8 label.sk-toggleable__label-arrow:hover:before {color: black;}#sk-container-id-8 div.sk-estimator:hover label.sk-toggleable__label-arrow:before {color: black;}#sk-container-id-8 div.sk-toggleable__content {max-height: 0;max-width: 0;overflow: hidden;text-align: left;background-color: #f0f8ff;}#sk-container-id-8 div.sk-toggleable__content pre {margin: 0.2em;color: black;border-radius: 0.25em;background-color: #f0f8ff;}#sk-container-id-8 input.sk-toggleable__control:checked~div.sk-toggleable__content {max-height: 200px;max-width: 100%;overflow: auto;}#sk-container-id-8 input.sk-toggleable__control:checked~label.sk-toggleable__label-arrow:before {content: \"▾\";}#sk-container-id-8 div.sk-estimator input.sk-toggleable__control:checked~label.sk-toggleable__label {background-color: #d4ebff;}#sk-container-id-8 div.sk-label input.sk-toggleable__control:checked~label.sk-toggleable__label {background-color: #d4ebff;}#sk-container-id-8 input.sk-hidden--visually {border: 0;clip: rect(1px 1px 1px 1px);clip: rect(1px, 1px, 1px, 1px);height: 1px;margin: -1px;overflow: hidden;padding: 0;position: absolute;width: 1px;}#sk-container-id-8 div.sk-estimator {font-family: monospace;background-color: #f0f8ff;border: 1px dotted black;border-radius: 0.25em;box-sizing: border-box;margin-bottom: 0.5em;}#sk-container-id-8 div.sk-estimator:hover {background-color: #d4ebff;}#sk-container-id-8 div.sk-parallel-item::after {content: \"\";width: 100%;border-bottom: 1px solid gray;flex-grow: 1;}#sk-container-id-8 div.sk-label:hover label.sk-toggleable__label {background-color: #d4ebff;}#sk-container-id-8 div.sk-serial::before {content: \"\";position: absolute;border-left: 1px solid gray;box-sizing: border-box;top: 0;bottom: 0;left: 50%;z-index: 0;}#sk-container-id-8 div.sk-serial {display: flex;flex-direction: column;align-items: center;background-color: white;padding-right: 0.2em;padding-left: 0.2em;position: relative;}#sk-container-id-8 div.sk-item {position: relative;z-index: 1;}#sk-container-id-8 div.sk-parallel {display: flex;align-items: stretch;justify-content: center;background-color: white;position: relative;}#sk-container-id-8 div.sk-item::before, #sk-container-id-8 div.sk-parallel-item::before {content: \"\";position: absolute;border-left: 1px solid gray;box-sizing: border-box;top: 0;bottom: 0;left: 50%;z-index: -1;}#sk-container-id-8 div.sk-parallel-item {display: flex;flex-direction: column;z-index: 1;position: relative;background-color: white;}#sk-container-id-8 div.sk-parallel-item:first-child::after {align-self: flex-end;width: 50%;}#sk-container-id-8 div.sk-parallel-item:last-child::after {align-self: flex-start;width: 50%;}#sk-container-id-8 div.sk-parallel-item:only-child::after {width: 0;}#sk-container-id-8 div.sk-dashed-wrapped {border: 1px dashed gray;margin: 0 0.4em 0.5em 0.4em;box-sizing: border-box;padding-bottom: 0.4em;background-color: white;}#sk-container-id-8 div.sk-label label {font-family: monospace;font-weight: bold;display: inline-block;line-height: 1.2em;}#sk-container-id-8 div.sk-label-container {text-align: center;}#sk-container-id-8 div.sk-container {/* jupyter's `normalize.less` sets `[hidden] { display: none; }` but bootstrap.min.css set `[hidden] { display: none !important; }` so we also need the `!important` here to be able to override the default hidden behavior on the sphinx rendered scikit-learn.org. See: https://github.com/scikit-learn/scikit-learn/issues/21755 */display: inline-block !important;position: relative;}#sk-container-id-8 div.sk-text-repr-fallback {display: none;}</style><div id=\"sk-container-id-8\" class=\"sk-top-container\"><div class=\"sk-text-repr-fallback\"><pre>GridSearchCV(cv=5,\n",
       "             estimator=Pipeline(steps=[(&#x27;tfidf&#x27;, TfidfVectorizer()),\n",
       "                                       (&#x27;svc&#x27;, SVC())]),\n",
       "             n_jobs=-1,\n",
       "             param_grid={&#x27;svc__C&#x27;: [0.1, 1, 10],\n",
       "                         &#x27;svc__kernel&#x27;: [&#x27;linear&#x27;, &#x27;rbf&#x27;],\n",
       "                         &#x27;tfidf__max_df&#x27;: [0.8, 0.9, 1.0],\n",
       "                         &#x27;tfidf__ngram_range&#x27;: [(1, 1), (1, 2)]},\n",
       "             scoring=&#x27;accuracy&#x27;)</pre><b>In a Jupyter environment, please rerun this cell to show the HTML representation or trust the notebook. <br />On GitHub, the HTML representation is unable to render, please try loading this page with nbviewer.org.</b></div><div class=\"sk-container\" hidden><div class=\"sk-item sk-dashed-wrapped\"><div class=\"sk-label-container\"><div class=\"sk-label sk-toggleable\"><input class=\"sk-toggleable__control sk-hidden--visually\" id=\"sk-estimator-id-29\" type=\"checkbox\" ><label for=\"sk-estimator-id-29\" class=\"sk-toggleable__label sk-toggleable__label-arrow\">GridSearchCV</label><div class=\"sk-toggleable__content\"><pre>GridSearchCV(cv=5,\n",
       "             estimator=Pipeline(steps=[(&#x27;tfidf&#x27;, TfidfVectorizer()),\n",
       "                                       (&#x27;svc&#x27;, SVC())]),\n",
       "             n_jobs=-1,\n",
       "             param_grid={&#x27;svc__C&#x27;: [0.1, 1, 10],\n",
       "                         &#x27;svc__kernel&#x27;: [&#x27;linear&#x27;, &#x27;rbf&#x27;],\n",
       "                         &#x27;tfidf__max_df&#x27;: [0.8, 0.9, 1.0],\n",
       "                         &#x27;tfidf__ngram_range&#x27;: [(1, 1), (1, 2)]},\n",
       "             scoring=&#x27;accuracy&#x27;)</pre></div></div></div><div class=\"sk-parallel\"><div class=\"sk-parallel-item\"><div class=\"sk-item\"><div class=\"sk-label-container\"><div class=\"sk-label sk-toggleable\"><input class=\"sk-toggleable__control sk-hidden--visually\" id=\"sk-estimator-id-30\" type=\"checkbox\" ><label for=\"sk-estimator-id-30\" class=\"sk-toggleable__label sk-toggleable__label-arrow\">estimator: Pipeline</label><div class=\"sk-toggleable__content\"><pre>Pipeline(steps=[(&#x27;tfidf&#x27;, TfidfVectorizer()), (&#x27;svc&#x27;, SVC())])</pre></div></div></div><div class=\"sk-serial\"><div class=\"sk-item\"><div class=\"sk-serial\"><div class=\"sk-item\"><div class=\"sk-estimator sk-toggleable\"><input class=\"sk-toggleable__control sk-hidden--visually\" id=\"sk-estimator-id-31\" type=\"checkbox\" ><label for=\"sk-estimator-id-31\" class=\"sk-toggleable__label sk-toggleable__label-arrow\">TfidfVectorizer</label><div class=\"sk-toggleable__content\"><pre>TfidfVectorizer()</pre></div></div></div><div class=\"sk-item\"><div class=\"sk-estimator sk-toggleable\"><input class=\"sk-toggleable__control sk-hidden--visually\" id=\"sk-estimator-id-32\" type=\"checkbox\" ><label for=\"sk-estimator-id-32\" class=\"sk-toggleable__label sk-toggleable__label-arrow\">SVC</label><div class=\"sk-toggleable__content\"><pre>SVC()</pre></div></div></div></div></div></div></div></div></div></div></div></div>"
      ],
      "text/plain": [
       "GridSearchCV(cv=5,\n",
       "             estimator=Pipeline(steps=[('tfidf', TfidfVectorizer()),\n",
       "                                       ('svc', SVC())]),\n",
       "             n_jobs=-1,\n",
       "             param_grid={'svc__C': [0.1, 1, 10],\n",
       "                         'svc__kernel': ['linear', 'rbf'],\n",
       "                         'tfidf__max_df': [0.8, 0.9, 1.0],\n",
       "                         'tfidf__ngram_range': [(1, 1), (1, 2)]},\n",
       "             scoring='accuracy')"
      ]
     },
     "execution_count": 60,
     "metadata": {},
     "output_type": "execute_result"
    }
   ],
   "source": [
    "# 학습 세트와  테스트 세트 분할\n",
    "x_train, x_test, y_train, y_test = train_test_split(x, y, test_size=0.3, random_state=42, stratify=y)\n",
    "\n",
    "# 파이프라인 설정\n",
    "pipeline = Pipeline([\n",
    "    ('tfidf', TfidfVectorizer()),\n",
    "    ('svc', SVC())\n",
    "])\n",
    "\n",
    "# 하이퍼파라미터 튜닝\n",
    "param_grid = {\n",
    "    'tfidf__max_df': [0.8, 0.9, 1.0],\n",
    "    'tfidf__ngram_range': [(1, 1), (1, 2)],\n",
    "    'svc__C': [0.1, 1, 10],\n",
    "    'svc__kernel': ['linear', 'rbf']\n",
    "}\n",
    "\n",
    "# 그리드서치로 최적의 하이퍼파라미터 탐색\n",
    "grid_search = GridSearchCV(pipeline, param_grid, cv=5, n_jobs=-1, scoring='accuracy')\n",
    "grid_search.fit(x_train, y_train)"
   ]
  },
  {
   "cell_type": "markdown",
   "metadata": {},
   "source": [
    "5. 모델 평가 : 정확도, 정밀도, 재현율, F1 점수 및 ROC-AUC와 같은 지표를 사용하여 모델 평가.\n",
    "오버피팅과 언더피팅을 논의하고 이를 해결하는 방법 학습."
   ]
  },
  {
   "cell_type": "code",
   "execution_count": 64,
   "metadata": {},
   "outputs": [
    {
     "name": "stdout",
     "output_type": "stream",
     "text": [
      "Best Parameters: {'svc__C': 10, 'svc__kernel': 'rbf', 'tfidf__max_df': 0.8, 'tfidf__ngram_range': (1, 1)}\n",
      "Accuracy: 0.956343792633015\n",
      "              precision    recall  f1-score   support\n",
      "\n",
      "    negative       1.00      0.06      0.11        34\n",
      "    positive       0.96      1.00      0.98       699\n",
      "\n",
      "    accuracy                           0.96       733\n",
      "   macro avg       0.98      0.53      0.54       733\n",
      "weighted avg       0.96      0.96      0.94       733\n",
      "\n",
      "Cross-validation scores: [0.95343137 0.94594595 0.94840295 0.95331695 0.95331695 0.95331695]\n",
      "Mean cross-validation score: 0.9512885211414623\n"
     ]
    }
   ],
   "source": [
    "# 최적의 모델로 예측 수행\n",
    "best_model = grid_search.best_estimator_\n",
    "y_pre = best_model.predict(x_test)\n",
    "\n",
    "# 모델 평가\n",
    "print(f\"Best Parameters: {grid_search.best_params_}\")\n",
    "print(f\"Accuracy: {accuracy_score(y_test, y_pre)}\")\n",
    "print(classification_report(y_test, y_pre))\n",
    "\n",
    "# 모델 평가 (교차 검증)\n",
    "cross_val_scores = cross_val_score(best_model, x, y, cv=6, scoring='accuracy')\n",
    "print(f\"Cross-validation scores: {cross_val_scores}\")\n",
    "print(f\"Mean cross-validation score: {cross_val_scores.mean()}\")"
   ]
  },
  {
   "cell_type": "markdown",
   "metadata": {},
   "source": [
    "6. 시각화 : Matplotlib 또는 Seaborn과 같은 라이브러리를 사용하여 결과 시각화.\n",
    "혼동 행렬 및 ROC 곡선 생성."
   ]
  },
  {
   "cell_type": "code",
   "execution_count": 65,
   "metadata": {},
   "outputs": [
    {
     "data": {
      "image/png": "[encoded data removed]",
      "text/plain": [
       "<Figure size 800x600 with 2 Axes>"
      ]
     },
     "metadata": {},
     "output_type": "display_data"
    }
   ],
   "source": [
    "# 혼동 행렬 생성\n",
    "conf_matrix = confusion_matrix(y_test, y_pre, labels=best_model.classes_)\n",
    "\n",
    "# 혼동 행렬 시각화\n",
    "plt.figure(figsize=(8, 6))\n",
    "sns.heatmap(conf_matrix, annot=True, fmt='d', cmap=\"Blues\", xticklabels=best_model.classes_, yticklabels=best_model.classes_)\n",
    "plt.title('Confusion Matrix')\n",
    "plt.xlabel('Predicted labels')\n",
    "plt.ylabel('True labels')\n",
    "plt.show()"
   ]
  },
  {
   "cell_type": "code",
   "execution_count": 67,
   "metadata": {},
   "outputs": [
    {
     "data": {
      "image/png": "[encoded data removed]",
      "text/plain": [
       "<Figure size 800x600 with 1 Axes>"
      ]
     },
     "metadata": {},
     "output_type": "display_data"
    }
   ],
   "source": [
    "## ROC 곡선 생성 및 시각화\n",
    "\n",
    "# 긍정 부정 확률 계산\n",
    "y_scores = best_model.decision_function(x_test)\n",
    "\n",
    "# 긍정 ROC 곡선\n",
    "y_test_positive = (y_test == 'positive').astype(int) # y_test를 1차원 배열로 변환\n",
    "fpr_positive, tpr_positive, _ = roc_curve(y_test_positive, y_scores)\n",
    "roc_auc_positive = auc(fpr_positive, tpr_positive)\n",
    "\n",
    "# 부정 ROC 곡선\n",
    "y_test_negative = (y_test == 'negative').astype(int)\n",
    "fpr_negative, tpr_negative, _ = roc_curve(y_test_negative, -y_scores)  # 부정 클래스의 경우, 점수를 반대로 사용\n",
    "roc_auc_negative = auc(fpr_negative, tpr_negative)\n",
    "\n",
    "# ROC 곡선 시각화\n",
    "plt.figure(figsize=(8, 6))\n",
    "plt.plot(fpr_positive, tpr_positive, lw=2, label=f'Positive ROC curve (area = {roc_auc_positive:.2f})')\n",
    "plt.plot(fpr_negative, tpr_negative, lw=2, label=f'Negative ROC curve (area = {roc_auc_negative:.2f})')\n",
    "plt.plot([0, 1], [0, 1], color='navy', lw=2, linestyle='--')\n",
    "plt.xlim([0.0, 1.0])\n",
    "plt.ylim([0.0, 1.05])\n",
    "plt.xlabel('False Positive Rate')\n",
    "plt.ylabel('True Positive Rate')\n",
    "plt.title('Receiver Operating Characteristic (ROC) Curve')\n",
    "plt.legend(loc=\"lower right\")\n",
    "plt.show()\n"
   ]
  },
  {
   "cell_type": "code",
   "execution_count": null,
   "metadata": {},
   "outputs": [],
   "source": []
  }
 ],
 "metadata": {
  "kernelspec": {
   "display_name": "base",
   "language": "python",
   "name": "python3"
  },
  "language_info": {
   "codemirror_mode": {
    "name": "ipython",
    "version": 3
   },
   "file_extension": ".py",
   "mimetype": "text/x-python",
   "name": "python",
   "nbconvert_exporter": "python",
   "pygments_lexer": "ipython3",
   "version": "3.11.4"
  }
 },
 "nbformat": 4,
 "nbformat_minor": 2
}
